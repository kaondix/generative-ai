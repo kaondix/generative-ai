{
 "cells": [
  {
   "cell_type": "code",
   "execution_count": null,
   "metadata": {
    "id": "-CD-TNe_Lh8U"
   },
   "outputs": [],
   "source": [
    "# Copyright 2024 Google LLC\n",
    "#\n",
    "# Licensed under the Apache License, Version 2.0 (the \"License\");\n",
    "# you may not use this file except in compliance with the License.\n",
    "# You may obtain a copy of the License at\n",
    "#\n",
    "#     https://www.apache.org/licenses/LICENSE-2.0\n",
    "#\n",
    "# Unless required by applicable law or agreed to in writing, software\n",
    "# distributed under the License is distributed on an \"AS IS\" BASIS,\n",
    "# WITHOUT WARRANTIES OR CONDITIONS OF ANY KIND, either express or implied.\n",
    "# See the License for the specific language governing permissions and\n",
    "# limitations under the License."
   ]
  },
  {
   "cell_type": "markdown",
   "metadata": {
    "id": "-g1nKgHGLh8W"
   },
   "source": [
    "# Overview\n",
    "In this notebook, we will modify the imported DialogFlow CX Agent for CymBuddy. We will update the Webhooks to use the URI of the deployed Cloud Functions.\n",
    "\n",
    "## Prerequisites\n",
    "- Ensure you have a GCP Service Account key with the Dialogflow API Admin privileges assigned to it.\n",
    "- `output_urls.txt` file which contains the URIs of the deployed Cloud Functions. This file will be generated automatically and should be present after deploying resources through Terraform.\n",
    "\n",
    "\n",
    "{TODO: Update the links}\n",
    "<table align=\"left\">\n",
    "  <td style=\"text-align: center\">\n",
    "    <a href=\"\">\n",
    "      <img src=\"https://cloud.google.com/ml-engine/images/colab-logo-32px.png\" alt=\"Google Colaboratory logo\"><br> Run in Colab\n",
    "    </a>\n",
    "  </td>\n",
    "  <td style=\"text-align: center\">\n",
    "    <a href=\"\">\n",
    "      <img src=\"https://cloud.google.com/ml-engine/images/github-logo-32px.png\" alt=\"GitHub logo\"><br> View on GitHub\n",
    "    </a>\n",
    "  </td>\n",
    "  <td style=\"text-align: center\">\n",
    "    <a href=\"\">\n",
    "      <img src=\"https://lh3.googleusercontent.com/UiNooY4LUgW_oTvpsNhPpQzsstV5W8F7rYgxgGBD85cWJoLmrOzhVs_ksK_vgx40SHs7jCqkTkCk=e14-rj-sc0xffffff-h130-w32\" alt=\"Vertex AI logo\"><br> Open in Vertex AI Workbench\n",
    "    </a>\n",
    "  </td>\n",
    "</table>"
   ]
  },
  {
   "cell_type": "code",
   "execution_count": 2,
   "metadata": {
    "colab": {
     "base_uri": "https://localhost:8080/",
     "height": 689
    },
    "id": "_KNolsIHLh8X",
    "outputId": "efdd5fd3-f4a8-4d38-abaa-e5e7c1bb22f0"
   },
   "outputs": [
    {
     "name": "stdout",
     "output_type": "stream",
     "text": [
      "Collecting dfcx-scrapi\n",
      "  Downloading dfcx-scrapi-1.10.5.tar.gz (287 kB)\n",
      "\u001b[?25l     \u001b[90m━━━━━━━━━━━━━━━━━━━━━━━━━━━━━━━━━━━━━━━━\u001b[0m \u001b[32m0.0/287.4 kB\u001b[0m \u001b[31m?\u001b[0m eta \u001b[36m-:--:--\u001b[0m\r\u001b[2K     \u001b[91m━━━━━━━━━━━━━━━━━━\u001b[0m\u001b[91m╸\u001b[0m\u001b[90m━━━━━━━━━━━━━━━━━━━━━\u001b[0m \u001b[32m133.1/287.4 kB\u001b[0m \u001b[31m3.9 MB/s\u001b[0m eta \u001b[36m0:00:01\u001b[0m\r\u001b[2K     \u001b[90m━━━━━━━━━━━━━━━━━━━━━━━━━━━━━━━━━━━━━━━━\u001b[0m \u001b[32m287.4/287.4 kB\u001b[0m \u001b[31m4.3 MB/s\u001b[0m eta \u001b[36m0:00:00\u001b[0m\n",
      "\u001b[?25h  Installing build dependencies ... \u001b[?25l\u001b[?25hdone\n",
      "  Getting requirements to build wheel ... \u001b[?25l\u001b[?25hdone\n",
      "  Preparing metadata (pyproject.toml) ... \u001b[?25l\u001b[?25hdone\n",
      "Collecting google-cloud-dialogflow-cx (from dfcx-scrapi)\n",
      "  Downloading google_cloud_dialogflow_cx-1.33.0-py2.py3-none-any.whl (1.7 MB)\n",
      "\u001b[2K     \u001b[90m━━━━━━━━━━━━━━━━━━━━━━━━━━━━━━━━━━━━━━━━\u001b[0m \u001b[32m1.7/1.7 MB\u001b[0m \u001b[31m14.9 MB/s\u001b[0m eta \u001b[36m0:00:00\u001b[0m\n",
      "\u001b[?25hRequirement already satisfied: google-api-core[grpc]!=2.0.*,!=2.1.*,!=2.10.*,!=2.2.*,!=2.3.*,!=2.4.*,!=2.5.*,!=2.6.*,!=2.7.*,!=2.8.*,!=2.9.*,<3.0.0dev,>=1.34.1 in /usr/local/lib/python3.10/dist-packages (from google-cloud-dialogflow-cx->dfcx-scrapi) (2.11.1)\n",
      "Requirement already satisfied: google-auth!=2.24.0,!=2.25.0,<3.0.0dev,>=2.14.1 in /usr/local/lib/python3.10/dist-packages (from google-cloud-dialogflow-cx->dfcx-scrapi) (2.27.0)\n",
      "Requirement already satisfied: proto-plus<2.0.0dev,>=1.22.3 in /usr/local/lib/python3.10/dist-packages (from google-cloud-dialogflow-cx->dfcx-scrapi) (1.23.0)\n",
      "Requirement already satisfied: protobuf!=3.20.0,!=3.20.1,!=4.21.0,!=4.21.1,!=4.21.2,!=4.21.3,!=4.21.4,!=4.21.5,<5.0.0dev,>=3.19.5 in /usr/local/lib/python3.10/dist-packages (from google-cloud-dialogflow-cx->dfcx-scrapi) (3.20.3)\n",
      "Requirement already satisfied: googleapis-common-protos<2.0.dev0,>=1.56.2 in /usr/local/lib/python3.10/dist-packages (from google-api-core[grpc]!=2.0.*,!=2.1.*,!=2.10.*,!=2.2.*,!=2.3.*,!=2.4.*,!=2.5.*,!=2.6.*,!=2.7.*,!=2.8.*,!=2.9.*,<3.0.0dev,>=1.34.1->google-cloud-dialogflow-cx->dfcx-scrapi) (1.63.0)\n",
      "Requirement already satisfied: requests<3.0.0.dev0,>=2.18.0 in /usr/local/lib/python3.10/dist-packages (from google-api-core[grpc]!=2.0.*,!=2.1.*,!=2.10.*,!=2.2.*,!=2.3.*,!=2.4.*,!=2.5.*,!=2.6.*,!=2.7.*,!=2.8.*,!=2.9.*,<3.0.0dev,>=1.34.1->google-cloud-dialogflow-cx->dfcx-scrapi) (2.31.0)\n",
      "Requirement already satisfied: grpcio<2.0dev,>=1.33.2 in /usr/local/lib/python3.10/dist-packages (from google-api-core[grpc]!=2.0.*,!=2.1.*,!=2.10.*,!=2.2.*,!=2.3.*,!=2.4.*,!=2.5.*,!=2.6.*,!=2.7.*,!=2.8.*,!=2.9.*,<3.0.0dev,>=1.34.1->google-cloud-dialogflow-cx->dfcx-scrapi) (1.63.0)\n",
      "Requirement already satisfied: grpcio-status<2.0.dev0,>=1.33.2 in /usr/local/lib/python3.10/dist-packages (from google-api-core[grpc]!=2.0.*,!=2.1.*,!=2.10.*,!=2.2.*,!=2.3.*,!=2.4.*,!=2.5.*,!=2.6.*,!=2.7.*,!=2.8.*,!=2.9.*,<3.0.0dev,>=1.34.1->google-cloud-dialogflow-cx->dfcx-scrapi) (1.48.2)\n",
      "Requirement already satisfied: cachetools<6.0,>=2.0.0 in /usr/local/lib/python3.10/dist-packages (from google-auth!=2.24.0,!=2.25.0,<3.0.0dev,>=2.14.1->google-cloud-dialogflow-cx->dfcx-scrapi) (5.3.3)\n",
      "Requirement already satisfied: pyasn1-modules>=0.2.1 in /usr/local/lib/python3.10/dist-packages (from google-auth!=2.24.0,!=2.25.0,<3.0.0dev,>=2.14.1->google-cloud-dialogflow-cx->dfcx-scrapi) (0.4.0)\n",
      "Requirement already satisfied: rsa<5,>=3.1.4 in /usr/local/lib/python3.10/dist-packages (from google-auth!=2.24.0,!=2.25.0,<3.0.0dev,>=2.14.1->google-cloud-dialogflow-cx->dfcx-scrapi) (4.9)\n",
      "Requirement already satisfied: pyasn1<0.7.0,>=0.4.6 in /usr/local/lib/python3.10/dist-packages (from pyasn1-modules>=0.2.1->google-auth!=2.24.0,!=2.25.0,<3.0.0dev,>=2.14.1->google-cloud-dialogflow-cx->dfcx-scrapi) (0.6.0)\n",
      "Requirement already satisfied: charset-normalizer<4,>=2 in /usr/local/lib/python3.10/dist-packages (from requests<3.0.0.dev0,>=2.18.0->google-api-core[grpc]!=2.0.*,!=2.1.*,!=2.10.*,!=2.2.*,!=2.3.*,!=2.4.*,!=2.5.*,!=2.6.*,!=2.7.*,!=2.8.*,!=2.9.*,<3.0.0dev,>=1.34.1->google-cloud-dialogflow-cx->dfcx-scrapi) (3.3.2)\n",
      "Requirement already satisfied: idna<4,>=2.5 in /usr/local/lib/python3.10/dist-packages (from requests<3.0.0.dev0,>=2.18.0->google-api-core[grpc]!=2.0.*,!=2.1.*,!=2.10.*,!=2.2.*,!=2.3.*,!=2.4.*,!=2.5.*,!=2.6.*,!=2.7.*,!=2.8.*,!=2.9.*,<3.0.0dev,>=1.34.1->google-cloud-dialogflow-cx->dfcx-scrapi) (3.7)\n",
      "Requirement already satisfied: urllib3<3,>=1.21.1 in /usr/local/lib/python3.10/dist-packages (from requests<3.0.0.dev0,>=2.18.0->google-api-core[grpc]!=2.0.*,!=2.1.*,!=2.10.*,!=2.2.*,!=2.3.*,!=2.4.*,!=2.5.*,!=2.6.*,!=2.7.*,!=2.8.*,!=2.9.*,<3.0.0dev,>=1.34.1->google-cloud-dialogflow-cx->dfcx-scrapi) (2.0.7)\n",
      "Requirement already satisfied: certifi>=2017.4.17 in /usr/local/lib/python3.10/dist-packages (from requests<3.0.0.dev0,>=2.18.0->google-api-core[grpc]!=2.0.*,!=2.1.*,!=2.10.*,!=2.2.*,!=2.3.*,!=2.4.*,!=2.5.*,!=2.6.*,!=2.7.*,!=2.8.*,!=2.9.*,<3.0.0dev,>=1.34.1->google-cloud-dialogflow-cx->dfcx-scrapi) (2024.2.2)\n",
      "Building wheels for collected packages: dfcx-scrapi\n",
      "  Building wheel for dfcx-scrapi (pyproject.toml) ... \u001b[?25l\u001b[?25hdone\n",
      "  Created wheel for dfcx-scrapi: filename=dfcx_scrapi-1.10.5-py3-none-any.whl size=203247 sha256=f3d7b35191386ed7c555e8d2fea9a93be21091a063aad75b9679504656bd1068\n",
      "  Stored in directory: /root/.cache/pip/wheels/0c/63/58/859bf913596be3b865980a7bcf8e0c1d0f694665ebc8776fa0\n",
      "Successfully built dfcx-scrapi\n",
      "Installing collected packages: google-cloud-dialogflow-cx, dfcx-scrapi\n",
      "Successfully installed dfcx-scrapi-1.10.5 google-cloud-dialogflow-cx-1.33.0\n"
     ]
    },
    {
     "data": {
      "application/vnd.colab-display-data+json": {
       "id": "960c4abcfa7d4ab194c151e79e516064",
       "pip_warning": {
        "packages": [
         "google"
        ]
       }
      }
     },
     "metadata": {},
     "output_type": "display_data"
    }
   ],
   "source": [
    "!pip install dfcx-scrapi"
   ]
  },
  {
   "cell_type": "markdown",
   "metadata": {
    "id": "2TP5vSsfLh8X"
   },
   "source": [
    "# Imports\n"
   ]
  },
  {
   "cell_type": "code",
   "execution_count": 1,
   "metadata": {
    "id": "3OVYpbOmLh8X"
   },
   "outputs": [],
   "source": [
    "from dfcx_scrapi.tools.copy_util import CopyUtil\n",
    "from google.cloud import dialogflowcx_v3beta1 as dialogflow"
   ]
  },
  {
   "cell_type": "markdown",
   "metadata": {
    "id": "sOsD4_P8Lh8X"
   },
   "source": [
    "# User Inputs\n",
    "In the next section, we will collect runtime variables needed to execute this notebook.   \n",
    "This should be the only cell of the notebook you need to edit in order for this notebook to run.\n",
    "\n",
    "For this notebook, we'll need the following inputs:\n",
    "\n",
    "- `creds_path`: Your local path to your GCP Service Account Credentials\n",
    "- `agent_id`: Your Dialogflow CX Agent ID in String format"
   ]
  },
  {
   "cell_type": "code",
   "execution_count": 5,
   "metadata": {
    "id": "QMUYP_TOLh8X"
   },
   "outputs": [],
   "source": [
    "creds_path = \"{YOUR_CREDS_FILE_PATH}\"  # @param {type:\"string\"}\n",
    "\n",
    "# should be of the format: projects/<Project ID>/locations/<Location ID>/agents/<Agent ID>\n",
    "CymBuddy_agent_id = \"{YOUR-AGENT-ID}\"  # @param {type:\"string\"}"
   ]
  },
  {
   "cell_type": "markdown",
   "metadata": {
    "id": "DUXs3P9MLh8Y"
   },
   "source": [
    "# Get Webhooks Map from Agent\n",
    "First, we will extract a `map` of the Webhook IDs and Webhook Display Names from the Agent.   \n",
    "We pass `reverse=True` to the `get_webhooks_map` function which provides the Display Names as keys and the IDs as values.   \n",
    "This allows us to reference the map using Display Names vs. the long, cumbersome ID names."
   ]
  },
  {
   "cell_type": "code",
   "execution_count": 7,
   "metadata": {
    "colab": {
     "base_uri": "https://localhost:8080/"
    },
    "id": "d8xCQbQNLh8Y",
    "outputId": "a85e9de3-fdab-4964-d977-0c84f9185c02"
   },
   "outputs": [
    {
     "name": "stdout",
     "output_type": "stream",
     "text": [
      "{'Is the destination in India?': 'projects/terraform-test-project-406510/locations/us-central1/agents/e92ba26a-098c-4f5f-96d6-1f9832e30fc7/webhooks/03153ec6-a908-4ccc-b8dc-684e5feddc7f', 'Event_Recommendation_Travelling': 'projects/terraform-test-project-406510/locations/us-central1/agents/e92ba26a-098c-4f5f-96d6-1f9832e30fc7/webhooks/0317fed1-a3c1-4d76-aa9e-e5f30df3b2ac', 'Extend Overdraft': 'projects/terraform-test-project-406510/locations/us-central1/agents/e92ba26a-098c-4f5f-96d6-1f9832e30fc7/webhooks/08d9e0d2-6a4f-421f-8135-15b5d3313867', 'Tenure Validation': 'projects/terraform-test-project-406510/locations/us-central1/agents/e92ba26a-098c-4f5f-96d6-1f9832e30fc7/webhooks/207a6395-a28b-46d3-a042-a8fefea2b8ab', 'Event Recommendation': 'projects/terraform-test-project-406510/locations/us-central1/agents/e92ba26a-098c-4f5f-96d6-1f9832e30fc7/webhooks/23cd1554-9da8-4966-a366-4c014ee548e2', 'Find Nearest Dealer Webhook': 'projects/terraform-test-project-406510/locations/us-central1/agents/e92ba26a-098c-4f5f-96d6-1f9832e30fc7/webhooks/315ca7c5-0e7c-4434-acb1-8f73c08dafbf', 'Create Credit Card': 'projects/terraform-test-project-406510/locations/us-central1/agents/e92ba26a-098c-4f5f-96d6-1f9832e30fc7/webhooks/3974029c-6fbc-4223-b88f-aff79f967da2', 'High Risk Mutual Funds': 'projects/terraform-test-project-406510/locations/us-central1/agents/e92ba26a-098c-4f5f-96d6-1f9832e30fc7/webhooks/3dd1a6d1-84e8-4167-8f7b-7a2a43d32dcf', 'Create FD': 'projects/terraform-test-project-406510/locations/us-central1/agents/e92ba26a-098c-4f5f-96d6-1f9832e30fc7/webhooks/464f111a-4bfc-453e-8c74-8fcf34f02623', 'Unusual Expense ': 'projects/terraform-test-project-406510/locations/us-central1/agents/e92ba26a-098c-4f5f-96d6-1f9832e30fc7/webhooks/5087ce9e-9055-493b-af8d-84a44acbb21f', 'Get Travel Dates': 'projects/terraform-test-project-406510/locations/us-central1/agents/e92ba26a-098c-4f5f-96d6-1f9832e30fc7/webhooks/524313cf-43f2-4bec-9ab8-ac6e26920a51', 'Account Summary Webhook': 'projects/terraform-test-project-406510/locations/us-central1/agents/e92ba26a-098c-4f5f-96d6-1f9832e30fc7/webhooks/54ef67e0-eaf2-4f80-bd49-dcee3aab4585', 'FD Recommendation': 'projects/terraform-test-project-406510/locations/us-central1/agents/e92ba26a-098c-4f5f-96d6-1f9832e30fc7/webhooks/62536b00-5f5f-441b-abcb-933b3cc5d58e', 'Account Balance': 'projects/terraform-test-project-406510/locations/us-central1/agents/e92ba26a-098c-4f5f-96d6-1f9832e30fc7/webhooks/65546ba0-0007-4d8b-bba2-dc85afef5617', 'Increase Transaction Limit': 'projects/terraform-test-project-406510/locations/us-central1/agents/e92ba26a-098c-4f5f-96d6-1f9832e30fc7/webhooks/720b6b83-132f-42f9-942b-1ab92ce836c1', 'Set Default Params': 'projects/terraform-test-project-406510/locations/us-central1/agents/e92ba26a-098c-4f5f-96d6-1f9832e30fc7/webhooks/73ca820c-ee73-4696-942f-b5df524e726f', 'Tourist Spot Recommendation': 'projects/terraform-test-project-406510/locations/us-central1/agents/e92ba26a-098c-4f5f-96d6-1f9832e30fc7/webhooks/80fb16a9-7dcf-4105-803f-5c57b29f2f70', 'Enable international transactions': 'projects/terraform-test-project-406510/locations/us-central1/agents/e92ba26a-098c-4f5f-96d6-1f9832e30fc7/webhooks/9512030d-3997-440d-a245-a15a43e3a2a4', 'Category Wise Expenditure': 'projects/terraform-test-project-406510/locations/us-central1/agents/e92ba26a-098c-4f5f-96d6-1f9832e30fc7/webhooks/a636d03b-f5e6-4e31-b05e-bd81b0c954ed', 'Set Fd Amount': 'projects/terraform-test-project-406510/locations/us-central1/agents/e92ba26a-098c-4f5f-96d6-1f9832e30fc7/webhooks/a7409290-10d9-40b9-9779-9cffda33b9f5', 'RAG': 'projects/terraform-test-project-406510/locations/us-central1/agents/e92ba26a-098c-4f5f-96d6-1f9832e30fc7/webhooks/bb8ed887-b55d-4b1a-b19f-6443bce73204', 'Credit Card Recommendation': 'projects/terraform-test-project-406510/locations/us-central1/agents/e92ba26a-098c-4f5f-96d6-1f9832e30fc7/webhooks/c2f811fc-efb2-4760-a105-06d19df226b3', 'Recommend MF': 'projects/terraform-test-project-406510/locations/us-central1/agents/e92ba26a-098c-4f5f-96d6-1f9832e30fc7/webhooks/cc026a6f-2ab9-45f6-9004-0c04fe95b0dc', 'FD Confirmation': 'projects/terraform-test-project-406510/locations/us-central1/agents/e92ba26a-098c-4f5f-96d6-1f9832e30fc7/webhooks/d8f7c135-4f0b-4c33-9ef9-5e72dd9bf28d', 'FD Tenure': 'projects/terraform-test-project-406510/locations/us-central1/agents/e92ba26a-098c-4f5f-96d6-1f9832e30fc7/webhooks/dd71b5c9-d354-4ee4-9cbb-3b4f6cce6de5', 'Expense Prediction': 'projects/terraform-test-project-406510/locations/us-central1/agents/e92ba26a-098c-4f5f-96d6-1f9832e30fc7/webhooks/e9ecbefb-c6eb-40fd-9089-729229823d84', 'Validate Cust_ID Webhook': 'projects/terraform-test-project-406510/locations/us-central1/agents/e92ba26a-098c-4f5f-96d6-1f9832e30fc7/webhooks/ef45423b-59d4-447f-ae9d-8409b0f01646', 'Account Tips Webhook ': 'projects/terraform-test-project-406510/locations/us-central1/agents/e92ba26a-098c-4f5f-96d6-1f9832e30fc7/webhooks/f25a14a7-c011-472c-8442-864b7cadf05f', 'Debt Funds Webhook': 'projects/terraform-test-project-406510/locations/us-central1/agents/e92ba26a-098c-4f5f-96d6-1f9832e30fc7/webhooks/f8bf20c1-76c0-41b7-8c05-e2207ec4a057'}\n"
     ]
    }
   ],
   "source": [
    "cu = CopyUtil(creds_path)\n",
    "\n",
    "webhooks_map = cu.webhooks.get_webhooks_map(CymBuddy_agent_id, reverse=True)\n",
    "print(webhooks_map)"
   ]
  },
  {
   "cell_type": "markdown",
   "metadata": {
    "id": "nDOgeyt6qMKe"
   },
   "source": [
    "# Get the list of URI of the deployed Cloud Functions\n",
    "\n",
    "Once terraform completes resource deployment, an output_urls.txt file is generated which contains the URIs of the deployed Cloud Functions."
   ]
  },
  {
   "cell_type": "code",
   "execution_count": null,
   "metadata": {
    "id": "5ldMDyf7qmLf"
   },
   "outputs": [],
   "source": [
    "try:\n",
    "    with open(\"output_urls.txt\", \"r\") as f:\n",
    "        lines = f.readlines()\n",
    "except FileNotFoundError:\n",
    "    print(\n",
    "        \"Error: 'output_urls.txt' not found. Make sure to deploy the resources via Terraform first.\"\n",
    "    )\n",
    "    exit()\n",
    "\n",
    "deployed_cf = {}\n",
    "\n",
    "for line in lines:\n",
    "    key, value = line.split(\"=\") if \"=\" in line else (None, None)\n",
    "    if key is not None and value is not None:\n",
    "        # strip the whitespace\n",
    "        key = key.strip()\n",
    "        value = value.strip()\n",
    "        # add the key, value pair to the dictionary\n",
    "        deployed_cf[key] = value"
   ]
  },
  {
   "cell_type": "markdown",
   "metadata": {
    "id": "IKfCp5f1Lh8Y"
   },
   "source": [
    "# Modify the uri of each webhook\n",
    "Once we have our `webhooks_map`, we will use it to iterate over each webhook and change its URI to point to the new cloud function deployed."
   ]
  },
  {
   "cell_type": "code",
   "execution_count": null,
   "metadata": {},
   "outputs": [],
   "source": [
    "def find_cf_key(old_uri):\n",
    "    search_str = old_uri.split(\"/\")[-1] + \"_url\"\n",
    "    if search_str in deployed_cf:\n",
    "        return search_str\n",
    "    else:\n",
    "        search_str = search_str.replace(\"_\", \"-\")\n",
    "    return search_str"
   ]
  },
  {
   "cell_type": "code",
   "execution_count": null,
   "metadata": {
    "id": "tQVazwoUpPDq"
   },
   "outputs": [],
   "source": [
    "for webhook_display_name, webhook_id in webhooks_map.items():\n",
    "    webhook = cu.webhooks.get_webhook(webhook_id, CymBuddy_agent_id)\n",
    "    old_uri = webhook.generic_web_service.uri\n",
    "\n",
    "    search_str = find_cf_key(old_uri)\n",
    "    if search_str in deployed_cf:\n",
    "        new_uri = deployed_cf[search_str]\n",
    "\n",
    "    if new_uri:\n",
    "        new_generic_web_service = dialogflow.Webhook.GenericWebService(uri=new_uri)\n",
    "    if new_generic_web_service:\n",
    "        cu.webhooks.update_webhook(\n",
    "            webhook_id, webhook, generic_web_service=new_generic_web_service\n",
    "        )"
   ]
  }
 ],
 "metadata": {
  "colab": {
   "provenance": []
  },
  "environment": {
   "kernel": "python3",
   "name": "common-cpu.m96",
   "type": "gcloud",
   "uri": "gcr.io/deeplearning-platform-release/base-cpu:m96"
  },
  "file_extension": ".py",
  "interpreter": {
   "hash": "19fe958eff886c70bc7b0837ba1e6b09536c8944c54196036e51b6ba767223fc"
  },
  "kernelspec": {
   "display_name": "Python 3",
   "language": "python",
   "name": "python3"
  },
  "language_info": {
   "codemirror_mode": {
    "name": "ipython",
    "version": 3
   },
   "file_extension": ".py",
   "mimetype": "text/x-python",
   "name": "python",
   "nbconvert_exporter": "python",
   "pygments_lexer": "ipython3",
   "version": "3.7.12"
  },
  "mimetype": "text/x-python",
  "name": "python",
  "npconvert_exporter": "python",
  "pygments_lexer": "ipython3",
  "version": 3
 },
 "nbformat": 4,
 "nbformat_minor": 0
}
